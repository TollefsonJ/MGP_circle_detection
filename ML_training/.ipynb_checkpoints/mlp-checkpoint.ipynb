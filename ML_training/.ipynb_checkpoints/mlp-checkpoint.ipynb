{
 "cells": [
  {
   "cell_type": "markdown",
   "metadata": {},
   "source": [
    "Here's the full MLP model workflow, from model training to analytics."
   ]
  },
  {
   "cell_type": "markdown",
   "metadata": {},
   "source": [
    "# 1. MLP model\n"
   ]
  },
  {
   "cell_type": "markdown",
   "metadata": {},
   "source": [
    "### Choose train/test set"
   ]
  },
  {
   "cell_type": "code",
   "execution_count": 26,
   "metadata": {},
   "outputs": [],
   "source": [
    "# choose set: balanced, imbalanced, all_tanks\n",
    "set = \"all\"\n",
    "\n",
    "path_to_pos = \"training_images/\" + set + \"/YES_resized/\"\n",
    "path_to_neg = \"training_images/\" + set + \"/NO_resized/\""
   ]
  },
  {
   "cell_type": "markdown",
   "metadata": {},
   "source": [
    "### Input training images to array"
   ]
  },
  {
   "cell_type": "code",
   "execution_count": 20,
   "metadata": {},
   "outputs": [
    {
     "name": "stdout",
     "output_type": "stream",
     "text": [
      "(6683, 64, 64)\n",
      "(6683,)\n",
      "(6683, 4096)\n",
      "Mean of y:  0.050127188388448304\n"
     ]
    }
   ],
   "source": [
    "# import images into X and Y arrays\n",
    "import cv2\n",
    "import numpy as np\n",
    "import re\n",
    "import os\n",
    "def get_data(path, lab):\n",
    "    all_images_as_array=[]\n",
    "    label=[]\n",
    "    file = []\n",
    "    for filename in os.listdir(path):\n",
    "        if \"jpg\" in filename:\n",
    "            try:\n",
    "                img=cv2.imread(path + filename)\n",
    "                gray=cv2.cvtColor(img, cv2.COLOR_BGR2GRAY) \n",
    "                all_images_as_array.append(gray)\n",
    "                label.append(lab)\n",
    "                file.append(filename)\n",
    "            except:\n",
    "                continue\n",
    "    return np.array(all_images_as_array), np.array(label) , np.array(file)\n",
    "\n",
    "\n",
    "X1, y1 , file1 = get_data(path_to_pos, 1)\n",
    "X0, y0 , file0 = get_data(path_to_neg, 0)\n",
    "\n",
    "X = np.concatenate((X1, X0), axis = 0)\n",
    "y = np.concatenate((y1, y0), axis = 0)\n",
    "file = np.concatenate((file1, file0), axis = 0)\n",
    "\n",
    "print(X.shape)\n",
    "print(y.shape)\n",
    "\n",
    "# reshape X array to 2-dimensions\n",
    "nsamples, nx, ny = X.shape\n",
    "X = X.reshape((nsamples, nx*ny))\n",
    "print(X.shape)\n",
    "\n",
    "print(\"Mean of y: \", np.mean(y))\n"
   ]
  },
  {
   "cell_type": "markdown",
   "metadata": {},
   "source": [
    "### Split train and test"
   ]
  },
  {
   "cell_type": "code",
   "execution_count": 105,
   "metadata": {},
   "outputs": [
    {
     "name": "stdout",
     "output_type": "stream",
     "text": [
      "Y train array: \n",
      "[(0, 5078), (1, 268)]\n",
      "Y test array: \n",
      "[(0, 1270), (1, 67)]\n"
     ]
    }
   ],
   "source": [
    "######### train test split ###############\n",
    "from sklearn.model_selection import train_test_split\n",
    "from sklearn import preprocessing\n",
    "\n",
    "####### split data into train and test sets - also, set up filename arrays for later examination\n",
    "X_train, X_test, y_train, y_test, file_train, file_test = train_test_split(X, y, file, stratify = y, test_size=0.2, random_state=0)\n",
    "\n",
    "\n",
    "from collections import Counter\n",
    "print(\"Y train array: \")\n",
    "print(sorted(Counter(y_train).items()))\n",
    "\n",
    "print(\"Y test array: \")\n",
    "print(sorted(Counter(y_test).items()))"
   ]
  },
  {
   "cell_type": "markdown",
   "metadata": {},
   "source": [
    "### Resample training array"
   ]
  },
  {
   "cell_type": "code",
   "execution_count": 106,
   "metadata": {},
   "outputs": [
    {
     "name": "stdout",
     "output_type": "stream",
     "text": [
      "Y train array: \n",
      "[(0, 5078), (1, 268)]\n",
      "Train data resampled.\n",
      "Y train array: \n",
      "[(0, 507), (1, 507)]\n",
      "Y test array: \n",
      "[(0, 1270), (1, 67)]\n"
     ]
    }
   ],
   "source": [
    "################ resample train array ###########\n",
    "from collections import Counter\n",
    "print(\"Y train array: \")\n",
    "print(sorted(Counter(y_train).items()))\n",
    "\n",
    "from imblearn.over_sampling import SMOTE\n",
    "from imblearn.under_sampling import RandomUnderSampler\n",
    "\n",
    "over = SMOTE(sampling_strategy = .1)\n",
    "under = RandomUnderSampler(sampling_strategy=1)\n",
    "X_train, y_train = over.fit_resample(X_train, y_train)\n",
    "X_train, y_train = under.fit_resample(X_train, y_train)\n",
    "print(\"Train data resampled.\")\n",
    "\n",
    "from collections import Counter\n",
    "print(\"Y train array: \")\n",
    "print(sorted(Counter(y_train).items()))\n",
    "\n",
    "print(\"Y test array: \")\n",
    "print(sorted(Counter(y_test).items()))"
   ]
  },
  {
   "cell_type": "markdown",
   "metadata": {},
   "source": [
    "### Run model"
   ]
  },
  {
   "cell_type": "code",
   "execution_count": 107,
   "metadata": {},
   "outputs": [
    {
     "name": "stdout",
     "output_type": "stream",
     "text": [
      "Recall score:  0.8208955223880597\n",
      "Precision score:  0.1896551724137931\n",
      "Accuracy score:  0.8152580403889305\n",
      "F1 score:  0.3081232492997199\n",
      "Confusion matrix: \n",
      "[[1035  235]\n",
      " [  12   55]]\n"
     ]
    }
   ],
   "source": [
    "####################################\n",
    "###### scale and classify! ######\n",
    "####################################\n",
    "cutoff = 0.5\n",
    "\n",
    "\n",
    "\n",
    "\n",
    "from sklearn.pipeline import Pipeline\n",
    "from sklearn.neural_network import MLPClassifier\n",
    "\n",
    "# define and fit scaler\n",
    "scaler = preprocessing.StandardScaler()\n",
    "\n",
    "\n",
    "################## define and run model itself, after you've found good params ########\n",
    "mlp = MLPClassifier(hidden_layer_sizes= (100, 50),\n",
    "                    activation = 'relu',\n",
    "                    solver = 'lbfgs',\n",
    "                    alpha = 1e-5,\n",
    "                    learning_rate = 'constant',\n",
    "                    random_state = 0, max_iter=5000)\n",
    "\n",
    "pipe = Pipeline(steps =[('scaler',scaler) , ('MLPClassifier', mlp)])\n",
    "\n",
    "\n",
    "# run it\n",
    "pipe.fit(X_train, y_train)\n",
    "\n",
    "# test model\n",
    "# set threshold for positive output in the predict_proba line\n",
    "\n",
    "\n",
    "y_true, y_pred = y_test, pipe.predict(X_test)\n",
    "\n",
    "# y_true, y_pred = y_test, (pipe.predict_proba(X_test)[:,1] >= cutoff).astype(bool)\n",
    "\n",
    "\n",
    "from sklearn.metrics import recall_score, accuracy_score, precision_score, f1_score, confusion_matrix\n",
    "\n",
    "############### print accuracy\n",
    "recall = recall_score(y_true, y_pred)\n",
    "precision = precision_score(y_true, y_pred)\n",
    "accuracy = accuracy_score(y_true, y_pred)\n",
    "f1 = f1_score(y_true, y_pred)\n",
    "cm = confusion_matrix(y_true, y_pred)\n",
    "\n",
    "\n",
    "print(\"Recall score: \", recall)\n",
    "print(\"Precision score: \", precision)\n",
    "print(\"Accuracy score: \", accuracy)\n",
    "print(\"F1 score: \", f1)\n",
    "print(\"Confusion matrix: \")\n",
    "print(cm)"
   ]
  },
  {
   "cell_type": "markdown",
   "metadata": {},
   "source": [
    "### Show confusion matrix"
   ]
  },
  {
   "cell_type": "code",
   "execution_count": 108,
   "metadata": {},
   "outputs": [
    {
     "data": {
      "image/png": "[encoded data removed]",
      "text/plain": [
       "<Figure size 432x288 with 2 Axes>"
      ]
     },
     "metadata": {
      "needs_background": "light"
     },
     "output_type": "display_data"
    }
   ],
   "source": [
    "from sklearn.metrics import plot_confusion_matrix\n",
    "import matplotlib.pyplot as plt\n",
    "plot_confusion_matrix(pipe, X_test, y_test)  # doctest: +SKIP\n",
    "plt.show()  # doctest: +SKIP"
   ]
  },
  {
   "cell_type": "markdown",
   "metadata": {},
   "source": [
    "### Save model"
   ]
  },
  {
   "cell_type": "code",
   "execution_count": null,
   "metadata": {},
   "outputs": [],
   "source": [
    "#### save it #######\n",
    "from pickle import dump\n",
    "# save the model\n",
    "dump(pipe, open('mlp-im.pkl', 'wb'))"
   ]
  },
  {
   "cell_type": "markdown",
   "metadata": {},
   "source": [
    "# 2. Post-model filter"
   ]
  },
  {
   "cell_type": "markdown",
   "metadata": {},
   "source": [
    "### Set up mean/std.dev filter"
   ]
  },
  {
   "cell_type": "code",
   "execution_count": 117,
   "metadata": {},
   "outputs": [],
   "source": [
    "import os\n",
    "import numpy as np\n",
    "def get_means_and_stds(path):\n",
    "    all_means=[]\n",
    "    all_std=[]\n",
    "    for filename in os.listdir(path):\n",
    "        if \"jpg\" in filename:\n",
    "            try:\n",
    "                img=cv2.imread(path + filename)\n",
    "                # img=cv2.cvtColor(img, cv2.COLOR_BGR2GRAY) \n",
    "                r = img[:,:,2]\n",
    "                mean = np.mean(r)\n",
    "                std = np.std(r)\n",
    "                all_means.append(mean)\n",
    "                all_std.append(std)\n",
    "            except:\n",
    "                continue\n",
    "    return np.array(all_means), np.array(all_std)\n",
    "\n",
    "\n",
    "# get stats for full set of positive inputs\n",
    "POSmean, POSstd = get_means_and_stds(path_to_pos)\n",
    "\n",
    "meanrange = (np.percentile(POSmean, 2), np.percentile(POSmean, 98))\n",
    "stdrange = (np.percentile(POSstd, 2), np.percentile(POSstd, 98))"
   ]
  },
  {
   "cell_type": "markdown",
   "metadata": {},
   "source": [
    "### Apply filter to false positves; copy false pos and false neg to folder"
   ]
  },
  {
   "cell_type": "code",
   "execution_count": 119,
   "metadata": {},
   "outputs": [],
   "source": [
    "for i in range(0,(len(y_test)-1)):\n",
    "    # false negatives\n",
    "    if y_test[i] == 1 and y_pred[i] == 0:\n",
    "        img = cv2.imread(path_to_pos + file_test[i])\n",
    "        path = \"training_images/\" + set + \"/output/full_sized/falseneg/\"+file_test[i]\n",
    "        cv2.imwrite(path, img)\n",
    " \n",
    "    # false positives\n",
    "    else:\n",
    "        if y_test[i] == 0 and y_pred[i] == 1:\n",
    "            img = cv2.imread(path_to_neg + file_test[i])\n",
    "            r = img[:,:,2]\n",
    "            mean = np.mean(r)\n",
    "            std = np.std(r)\n",
    "            if mean < meanrange[0] or mean>meanrange[1] or std<stdrange[0] or std>stdrange[1]:\n",
    "                path = \"training_images/\" + set + \"/output/full_sized/falsepos_removed/\"+file_test[i]\n",
    "                cv2.imwrite(path, img)\n",
    "            else:\n",
    "                path = \"training_images/\" + set + \"/output/full_sized/falsepos/\"+file_test[i]\n",
    "                cv2.imwrite(path, img)         \n",
    "        else:\n",
    "            continue"
   ]
  },
  {
   "cell_type": "markdown",
   "metadata": {},
   "source": [
    "# 3. Aggregate to map pages"
   ]
  },
  {
   "cell_type": "markdown",
   "metadata": {},
   "source": [
    "### Compare number of false positive circles vs. false positive map pages (after filter)"
   ]
  },
  {
   "cell_type": "code",
   "execution_count": 216,
   "metadata": {},
   "outputs": [
    {
     "name": "stdout",
     "output_type": "stream",
     "text": [
      "Confusion matrix, using map pages :\n",
      "[[880 173]\n",
      " [ 12  49]]\n"
     ]
    }
   ],
   "source": [
    "false_pos = \"training_images/\" + set + \"/output/full_sized/falsepos/\"\n",
    "\n",
    "fp_pages = []\n",
    "for filename in os.listdir(false_pos):\n",
    "    page = filename.split(\"-\")[0]+\"-\"+filename.split(\"-\")[1]\n",
    "    fp_pages.append(page)\n",
    "\n",
    "fn_pages = []\n",
    "tp_pages = []\n",
    "tn_pages = []\n",
    "for i in range(0,(len(y_test)-1)):\n",
    "    if y_test[i] ==1 and y_pred[i] ==1:\n",
    "        map_tp = file_test[i]\n",
    "        page_tp = map_tp.split(\"-\")[0]+\"-\"+map_tp.split(\"-\")[1]\n",
    "        tp_pages.append(page_tp)\n",
    "    if y_test[i] ==1 and y_pred[i] == 0:\n",
    "        map_fn = file_test[i]\n",
    "        page_fn = map_fn.split(\"-\")[0]+\"-\"+map_fn.split(\"-\")[1]\n",
    "        fn_pages.append(page_fn)\n",
    "    if y_test[i] == 0 and y_pred[i] == 0:\n",
    "        map_tn = file_test[i]\n",
    "        page_tn = map_tn.split(\"-\")[0]+\"-\"+map_tn.split(\"-\")[1]\n",
    "        tn_pages.append(page_tn)\n",
    "\n",
    "tn = len(np.unique(tn_pages))\n",
    "fn = len(np.unique(fn_pages))\n",
    "fp = len(np.unique(fp_pages))\n",
    "tp = len(np.unique(tp_pages))\n",
    "\n",
    "m = np.array([[tn,fp],\n",
    "     [fn,tp]])\n",
    "print('Confusion matrix, using map pages :')\n",
    "print(m)"
   ]
  },
  {
   "cell_type": "markdown",
   "metadata": {},
   "source": [
    "### How many false positives are on the same page as a true positive?\n",
    "This reduces further the number of map pages to code."
   ]
  },
  {
   "cell_type": "code",
   "execution_count": 247,
   "metadata": {},
   "outputs": [
    {
     "name": "stdout",
     "output_type": "stream",
     "text": [
      "Number of unique false positives:  167\n"
     ]
    }
   ],
   "source": [
    "fp_unique = fp - len((np.intersect1d(tp_pages, fp_pages)))\n",
    "print('Number of unique false positives: ', fp_unique)"
   ]
  },
  {
   "cell_type": "markdown",
   "metadata": {},
   "source": [
    "### How many false negatives were captured in positive maps?"
   ]
  },
  {
   "cell_type": "code",
   "execution_count": 261,
   "metadata": {},
   "outputs": [
    {
     "name": "stdout",
     "output_type": "stream",
     "text": [
      "Recaptured false negatives:  3\n",
      "Number of unique false positives:  9\n"
     ]
    }
   ],
   "source": [
    "# How many false negatives would be captured in positive maps?\n",
    "\n",
    "# Set up list of total positive pages\n",
    "p_pages = np.append(tp_pages, fp_pages)\n",
    "\n",
    "# Get intersection of all pos pages and false neg pages\n",
    "print('Recaptured false negatives: ', len(np.intersect1d(fn_pages, p_pages)))\n",
    "fn_unique = fn - len((np.intersect1d(fn_pages, p_pages)))\n",
    "print('Number of unique false positives: ', fn_unique)"
   ]
  },
  {
   "cell_type": "markdown",
   "metadata": {},
   "source": [
    "## What's the final confusion matrix accounting for map pages?"
   ]
  },
  {
   "cell_type": "code",
   "execution_count": 262,
   "metadata": {},
   "outputs": [
    {
     "name": "stdout",
     "output_type": "stream",
     "text": [
      "Confusion matrix, final :\n",
      "[[880 167]\n",
      " [  9  49]]\n"
     ]
    }
   ],
   "source": [
    "m_final = np.array([[tn,fp_unique],\n",
    "     [fn_unique,tp]])\n",
    "\n",
    "print('Confusion matrix, final :')\n",
    "print(m_final)"
   ]
  },
  {
   "cell_type": "markdown",
   "metadata": {},
   "source": [
    "## What's the total number of map *pages* tested?"
   ]
  },
  {
   "cell_type": "code",
   "execution_count": 259,
   "metadata": {},
   "outputs": [
    {
     "data": {
      "text/plain": [
       "3894"
      ]
     },
     "execution_count": 259,
     "metadata": {},
     "output_type": "execute_result"
    }
   ],
   "source": [
    "# Total number of map pages tested:\n",
    "pages = []\n",
    "for i in range(0, len(file)):\n",
    "    map = file[i]\n",
    "    page = map.split(\"-\")[0]+\"-\"+map.split(\"-\")[1]\n",
    "    pages.append(page)\n",
    "    \n",
    "len(np.unique(pages))"
   ]
  }
 ],
 "metadata": {
  "kernelspec": {
   "display_name": "Python [conda env:myenv] *",
   "language": "python",
   "name": "conda-env-myenv-py"
  },
  "language_info": {
   "codemirror_mode": {
    "name": "ipython",
    "version": 3
   },
   "file_extension": ".py",
   "mimetype": "text/x-python",
   "name": "python",
   "nbconvert_exporter": "python",
   "pygments_lexer": "ipython3",
   "version": "3.7.7"
  }
 },
 "nbformat": 4,
 "nbformat_minor": 4
}
