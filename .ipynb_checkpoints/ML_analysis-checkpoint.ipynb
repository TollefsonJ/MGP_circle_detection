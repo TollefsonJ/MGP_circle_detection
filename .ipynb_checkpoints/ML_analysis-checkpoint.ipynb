{
 "cells": [
  {
   "cell_type": "markdown",
   "metadata": {
    "colab_type": "text",
    "id": "taLgZ1uaD_FP"
   },
   "source": [
    "# This notebook mounts MGP_circle_detection from google drive, and then runs ML_analysis.py.\n"
   ]
  },
  {
   "cell_type": "markdown",
   "metadata": {},
   "source": [
    "## Run the following cell if using google colab"
   ]
  },
  {
   "cell_type": "code",
   "execution_count": null,
   "metadata": {
    "colab": {
     "base_uri": "https://localhost:8080/",
     "height": 54
    },
    "colab_type": "code",
    "executionInfo": {
     "elapsed": 676,
     "status": "ok",
     "timestamp": 1599759116246,
     "user": {
      "displayName": "Jonathan Tollefson",
      "photoUrl": "",
      "userId": "13363801828984479084"
     },
     "user_tz": 240
    },
    "id": "yhiueVHREGEn",
    "outputId": "46fde27b-28e9-411a-a0bd-75db3ef8f861"
   },
   "outputs": [],
   "source": [
    "from google.colab import drive\n",
    "drive.mount('/content/drive')"
   ]
  },
  {
   "cell_type": "markdown",
   "metadata": {},
   "source": [
    "## Run the following cells to conduct the ML analysis on your images, which should be placed in subfolders within the \"input\" folder."
   ]
  },
  {
   "cell_type": "code",
   "execution_count": null,
   "metadata": {
    "colab": {},
    "colab_type": "code",
    "executionInfo": {
     "elapsed": 1102,
     "status": "ok",
     "timestamp": 1599759295732,
     "user": {
      "displayName": "Jonathan Tollefson",
      "photoUrl": "",
      "userId": "13363801828984479084"
     },
     "user_tz": 240
    },
    "id": "VhHT0hupDxKl"
   },
   "outputs": [],
   "source": [
    "import os\n",
    "\n",
    "os.chdir('/content/drive/My Drive/MGP_circle_detection')"
   ]
  },
  {
   "cell_type": "code",
   "execution_count": null,
   "metadata": {
    "colab": {
     "base_uri": "https://localhost:8080/",
     "height": 315
    },
    "colab_type": "code",
    "executionInfo": {
     "elapsed": 3591,
     "status": "ok",
     "timestamp": 1599759498361,
     "user": {
      "displayName": "Jonathan Tollefson",
      "photoUrl": "",
      "userId": "13363801828984479084"
     },
     "user_tz": 240
    },
    "id": "IsdY-2v5FJoP",
    "outputId": "24471163-6755-4613-8deb-a871f1e7f293"
   },
   "outputs": [],
   "source": [
    "import ML_analysis"
   ]
  }
 ],
 "metadata": {
  "colab": {
   "collapsed_sections": [],
   "name": "ML_analysis.ipynb",
   "provenance": [],
   "toc_visible": true
  },
  "kernelspec": {
   "display_name": "Python 3",
   "language": "python",
   "name": "python3"
  },
  "language_info": {
   "codemirror_mode": {
    "name": "ipython",
    "version": 3
   },
   "file_extension": ".py",
   "mimetype": "text/x-python",
   "name": "python",
   "nbconvert_exporter": "python",
   "pygments_lexer": "ipython3",
   "version": "3.7.7"
  }
 },
 "nbformat": 4,
 "nbformat_minor": 4
}
